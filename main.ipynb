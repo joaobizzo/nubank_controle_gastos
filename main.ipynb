{
 "cells": [
  {
   "cell_type": "code",
   "execution_count": 2,
   "metadata": {},
   "outputs": [],
   "source": [
    "import pandas as pd\n",
    "import os"
   ]
  },
  {
   "cell_type": "code",
   "execution_count": 9,
   "metadata": {},
   "outputs": [
    {
     "data": {
      "text/html": [
       "<div>\n",
       "<style scoped>\n",
       "    .dataframe tbody tr th:only-of-type {\n",
       "        vertical-align: middle;\n",
       "    }\n",
       "\n",
       "    .dataframe tbody tr th {\n",
       "        vertical-align: top;\n",
       "    }\n",
       "\n",
       "    .dataframe thead th {\n",
       "        text-align: right;\n",
       "    }\n",
       "</style>\n",
       "<table border=\"1\" class=\"dataframe\">\n",
       "  <thead>\n",
       "    <tr style=\"text-align: right;\">\n",
       "      <th></th>\n",
       "      <th>Data</th>\n",
       "      <th>Valor</th>\n",
       "      <th>Identificador</th>\n",
       "      <th>Descricao</th>\n",
       "    </tr>\n",
       "  </thead>\n",
       "  <tbody>\n",
       "    <tr>\n",
       "      <th>0</th>\n",
       "      <td>03/08/2023</td>\n",
       "      <td>-4.0</td>\n",
       "      <td>64cb88e6-f81f-4b43-b9f8-dc1dc8f7d379</td>\n",
       "      <td>Compra no dÃÂ©bito - Suco Tal</td>\n",
       "    </tr>\n",
       "    <tr>\n",
       "      <th>1</th>\n",
       "      <td>03/08/2023</td>\n",
       "      <td>-9.9</td>\n",
       "      <td>64cbc2f3-9d0d-4795-8af0-b6910dc280ed</td>\n",
       "      <td>Compra no dÃÂ©bito - Mc Donalds</td>\n",
       "    </tr>\n",
       "    <tr>\n",
       "      <th>2</th>\n",
       "      <td>03/08/2023</td>\n",
       "      <td>-3.5</td>\n",
       "      <td>64cc3384-dde7-492f-b0e7-dab258bd4417</td>\n",
       "      <td>Compra no dÃÂ©bito - Dellicata Paes e Tenta</td>\n",
       "    </tr>\n",
       "    <tr>\n",
       "      <th>3</th>\n",
       "      <td>04/08/2023</td>\n",
       "      <td>800.0</td>\n",
       "      <td>64cd05e2-bd32-4023-bc2e-b94b77507cc6</td>\n",
       "      <td>TransferÃÂªncia recebida pelo Pix - WYNK SOLU...</td>\n",
       "    </tr>\n",
       "    <tr>\n",
       "      <th>4</th>\n",
       "      <td>04/08/2023</td>\n",
       "      <td>-2.5</td>\n",
       "      <td>64cd1991-67bf-4908-9804-ba7d5fa79446</td>\n",
       "      <td>TransferÃÂªncia enviada pelo Pix - Samuel Mot...</td>\n",
       "    </tr>\n",
       "  </tbody>\n",
       "</table>\n",
       "</div>"
      ],
      "text/plain": [
       "         Data  Valor                         Identificador  \\\n",
       "0  03/08/2023   -4.0  64cb88e6-f81f-4b43-b9f8-dc1dc8f7d379   \n",
       "1  03/08/2023   -9.9  64cbc2f3-9d0d-4795-8af0-b6910dc280ed   \n",
       "2  03/08/2023   -3.5  64cc3384-dde7-492f-b0e7-dab258bd4417   \n",
       "3  04/08/2023  800.0  64cd05e2-bd32-4023-bc2e-b94b77507cc6   \n",
       "4  04/08/2023   -2.5  64cd1991-67bf-4908-9804-ba7d5fa79446   \n",
       "\n",
       "                                           Descricao  \n",
       "0                     Compra no dÃÂ©bito - Suco Tal  \n",
       "1                   Compra no dÃÂ©bito - Mc Donalds  \n",
       "2       Compra no dÃÂ©bito - Dellicata Paes e Tenta  \n",
       "3  TransferÃÂªncia recebida pelo Pix - WYNK SOLU...  \n",
       "4  TransferÃÂªncia enviada pelo Pix - Samuel Mot...  "
      ]
     },
     "execution_count": 9,
     "metadata": {},
     "output_type": "execute_result"
    }
   ],
   "source": [
    "df_path = \"data/NU_340297544_01AGO2023_31AGO2023.csv\"\n",
    "df = pd.read_csv(df_path, sep=\",\", encoding=\"latin-1\")\n",
    "df = df.rename({'DescriÃÂ§ÃÂ£o': 'Descricao'}, axis = 1)\n",
    "df.head()"
   ]
  },
  {
   "cell_type": "code",
   "execution_count": 13,
   "metadata": {},
   "outputs": [
    {
     "name": "stdout",
     "output_type": "stream",
     "text": [
      "0                          Compra no dAAbito - Suco Tal\n",
      "1                        Compra no dAAbito - Mc Donalds\n",
      "2            Compra no dAAbito - Dellicata Paes e Tenta\n",
      "3     TransferAAancia recebida pelo Pix - WYNK SOLUC...\n",
      "4     TransferAAancia enviada pelo Pix - Samuel Mota...\n",
      "5                                   Pagamento de fatura\n",
      "6            Compra no dAAbito - Dellicata Paes e Tenta\n",
      "7     TransferAAancia enviada pelo Pix - Nilza Paes ...\n",
      "8     TransferAAancia enviada pelo Pix - Samuel Mota...\n",
      "9                                       AplicaAAAAo RDB\n",
      "10    TransferAAancia enviada pelo Pix - Manuela Fon...\n",
      "11    TransferAAancia enviada pelo Pix - PHOENIX INV...\n",
      "12    TransferAAancia enviada pelo Pix - ANTONIO FLA...\n",
      "13           Compra no dAAbito - Dellicata Paes e Tenta\n",
      "14                     Compra no dAAbito - Sacolao Xepa\n",
      "15    TransferAAancia enviada pelo Pix - Micaela Duq...\n",
      "16    TransferAAancia recebida pelo Pix - TECWAY CON...\n",
      "17    TransferAAancia enviada pelo Pix - Shopee - 38...\n",
      "18    TransferAAancia enviada pelo Pix - Shopee - 38...\n",
      "19    TransferAAancia recebida pelo Pix - DEISLANE L...\n",
      "20                                  Pagamento de fatura\n",
      "21    TransferAAancia enviada pelo Pix - Camila Guil...\n",
      "22                     Compra no dAAbito - Pag*Sucoetal\n",
      "23                                  Pagamento de fatura\n",
      "24    TransferAAancia Recebida - Kevilin Eduarda Lem...\n",
      "25                        Compra no dAAbito - Apetite S\n",
      "26                       Compra no dAAbito - Suco e Tal\n",
      "27    TransferAAancia Recebida - Cristian Couto Ramo...\n",
      "28                                  Pagamento de fatura\n",
      "29                 Compra no dAAbito - J e F Lanchonete\n",
      "30    TransferAAancia Recebida - Renata Couto Ramos ...\n",
      "31    TransferAAancia enviada pelo Pix - ALLAN TAUNA...\n",
      "32    TransferAAancia recebida pelo Pix - LANCHONETE...\n",
      "33              Compra no dAAbito - Pag*Jeronimotaquari\n",
      "34    TransferAAancia Recebida - Cristian Couto Ramo...\n",
      "35    TransferAAancia recebida pelo Pix - PAULA DOS ...\n",
      "36                 Compra no dAAbito - Uber *Uber *Trip\n",
      "37                 Compra no dAAbito - Uber *Uber *Trip\n",
      "38                 Compra no dAAbito - J e F Lanchonete\n",
      "39                 Compra no dAAbito - Uber *Uber *Trip\n",
      "40    TransferAAancia recebida pelo Pix - ALCENIRA D...\n",
      "41                 Compra no dAAbito - Uber *Uber *Trip\n",
      "42                       Compra no dAAbito - Uber *Trip\n",
      "43                 Compra no dAAbito - Uber *Uber *Trip\n",
      "44    TransferAAancia Recebida - Cristian Couto Ramo...\n",
      "45    TransferAAancia Recebida - Cristian Couto Ramo...\n",
      "46            Compra no dAAbito - Brasil 500 Doce e Fes\n",
      "47            Compra no dAAbito - Atacadao Farma Filial\n",
      "48                         Compra no dAAbito - Suco Tal\n",
      "49    TransferAAancia Recebida - Samuel Mota Ramos -...\n",
      "50                                  Pagamento de fatura\n",
      "51    TransferAAancia recebida pelo Pix - LANCHONETE...\n",
      "52                                  Pagamento de fatura\n",
      "Name: Descricao, dtype: object\n"
     ]
    }
   ],
   "source": [
    "# tratar acentos nas linhas abaixo\n",
    "for col in ['Descricao']:\n",
    "    print(df[col])"
   ]
  },
  {
   "cell_type": "code",
   "execution_count": null,
   "metadata": {},
   "outputs": [],
   "source": []
  }
 ],
 "metadata": {
  "kernelspec": {
   "display_name": "base",
   "language": "python",
   "name": "python3"
  },
  "language_info": {
   "codemirror_mode": {
    "name": "ipython",
    "version": 3
   },
   "file_extension": ".py",
   "mimetype": "text/x-python",
   "name": "python",
   "nbconvert_exporter": "python",
   "pygments_lexer": "ipython3",
   "version": "3.9.12"
  },
  "orig_nbformat": 4
 },
 "nbformat": 4,
 "nbformat_minor": 2
}
