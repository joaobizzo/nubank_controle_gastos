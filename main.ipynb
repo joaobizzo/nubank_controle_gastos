{
 "cells": [
  {
   "cell_type": "code",
   "execution_count": null,
   "metadata": {},
   "outputs": [],
   "source": [
    "import pandas as pd\n",
    "import os"
   ]
  },
  {
   "cell_type": "code",
   "execution_count": null,
   "metadata": {},
   "outputs": [],
   "source": [
    "df_path = \"data/NU_340297544_01AGO2023_31AGO2023.csv\"\n",
    "df = pd.read_csv(df_path, sep=\",\", encoding=\"latin-1\")\n",
    "df = df.rename({'DescriÃÂ§ÃÂ£o': 'Descricao'}, axis = 1)\n",
    "df.head()"
   ]
  },
  {
   "cell_type": "code",
   "execution_count": null,
   "metadata": {},
   "outputs": [],
   "source": [
    "def get_api_key():\n",
    "    with open('API_KEY.txt', 'r') as file:\n",
    "        api_key = file.read().strip()\n",
    "    return api_key"
   ]
  },
  {
   "cell_type": "code",
   "execution_count": null,
   "metadata": {},
   "outputs": [],
   "source": [
    "import os\n",
    "import openai\n",
    "\n",
    "def get_ai_response(descricao):\n",
    "  descricao = 'Compra no dÃÂ©bito - Dellicata Paes e Tenta'\n",
    "\n",
    "  openai.api_key = get_api_key() \n",
    "  resultado = openai.Completion.create(\n",
    "    model=\"gpt-3.5-turbo-instruct\",\n",
    "    prompt=\"I'll give you a description in portugues-br, and you will give me one of this categorys that describes it 'Alimentacao', 'Pix', 'Outros', 'Compras online', 'Pagar Fatura'. Description = \" + descricao,\n",
    "    max_tokens=7,\n",
    "    temperature=0\n",
    "  )\n",
    "\n",
    "\n",
    "\n",
    "  resposta = resultado[\"choices\"][0][\"text\"]\n",
    "  return resposta"
   ]
  },
  {
   "cell_type": "code",
   "execution_count": null,
   "metadata": {},
   "outputs": [],
   "source": [
    "categorias = []\n",
    "for linha in df['Descricao']:\n",
    "    linha = linha.lower()\n",
    "    categoria = get_ai_response(linha)\n",
    "    categorias.append(categoria)\n",
    "df['Categoria'] = categorias"
   ]
  },
  {
   "cell_type": "code",
   "execution_count": null,
   "metadata": {},
   "outputs": [],
   "source": [
    "df"
   ]
  }
 ],
 "metadata": {
  "kernelspec": {
   "display_name": "base",
   "language": "python",
   "name": "python3"
  },
  "language_info": {
   "codemirror_mode": {
    "name": "ipython",
    "version": 3
   },
   "file_extension": ".py",
   "mimetype": "text/x-python",
   "name": "python",
   "nbconvert_exporter": "python",
   "pygments_lexer": "ipython3",
   "version": "3.9.12"
  },
  "orig_nbformat": 4
 },
 "nbformat": 4,
 "nbformat_minor": 2
}
