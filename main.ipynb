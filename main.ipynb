{
 "cells": [
  {
   "cell_type": "code",
   "execution_count": 1,
   "metadata": {},
   "outputs": [],
   "source": [
    "import pandas as pd\n",
    "import os"
   ]
  },
  {
   "cell_type": "code",
   "execution_count": 2,
   "metadata": {},
   "outputs": [
    {
     "data": {
      "text/html": [
       "<div>\n",
       "<style scoped>\n",
       "    .dataframe tbody tr th:only-of-type {\n",
       "        vertical-align: middle;\n",
       "    }\n",
       "\n",
       "    .dataframe tbody tr th {\n",
       "        vertical-align: top;\n",
       "    }\n",
       "\n",
       "    .dataframe thead th {\n",
       "        text-align: right;\n",
       "    }\n",
       "</style>\n",
       "<table border=\"1\" class=\"dataframe\">\n",
       "  <thead>\n",
       "    <tr style=\"text-align: right;\">\n",
       "      <th></th>\n",
       "      <th>Data</th>\n",
       "      <th>Valor</th>\n",
       "      <th>Identificador</th>\n",
       "      <th>Descricao</th>\n",
       "    </tr>\n",
       "  </thead>\n",
       "  <tbody>\n",
       "    <tr>\n",
       "      <th>0</th>\n",
       "      <td>03/08/2023</td>\n",
       "      <td>-4.0</td>\n",
       "      <td>64cb88e6-f81f-4b43-b9f8-dc1dc8f7d379</td>\n",
       "      <td>Compra no dÃÂ©bito - Suco Tal</td>\n",
       "    </tr>\n",
       "    <tr>\n",
       "      <th>1</th>\n",
       "      <td>03/08/2023</td>\n",
       "      <td>-9.9</td>\n",
       "      <td>64cbc2f3-9d0d-4795-8af0-b6910dc280ed</td>\n",
       "      <td>Compra no dÃÂ©bito - Mc Donalds</td>\n",
       "    </tr>\n",
       "    <tr>\n",
       "      <th>2</th>\n",
       "      <td>03/08/2023</td>\n",
       "      <td>-3.5</td>\n",
       "      <td>64cc3384-dde7-492f-b0e7-dab258bd4417</td>\n",
       "      <td>Compra no dÃÂ©bito - Dellicata Paes e Tenta</td>\n",
       "    </tr>\n",
       "    <tr>\n",
       "      <th>3</th>\n",
       "      <td>04/08/2023</td>\n",
       "      <td>800.0</td>\n",
       "      <td>64cd05e2-bd32-4023-bc2e-b94b77507cc6</td>\n",
       "      <td>TransferÃÂªncia recebida pelo Pix - WYNK SOLU...</td>\n",
       "    </tr>\n",
       "    <tr>\n",
       "      <th>4</th>\n",
       "      <td>04/08/2023</td>\n",
       "      <td>-2.5</td>\n",
       "      <td>64cd1991-67bf-4908-9804-ba7d5fa79446</td>\n",
       "      <td>TransferÃÂªncia enviada pelo Pix - Samuel Mot...</td>\n",
       "    </tr>\n",
       "  </tbody>\n",
       "</table>\n",
       "</div>"
      ],
      "text/plain": [
       "         Data  Valor                         Identificador  \\\n",
       "0  03/08/2023   -4.0  64cb88e6-f81f-4b43-b9f8-dc1dc8f7d379   \n",
       "1  03/08/2023   -9.9  64cbc2f3-9d0d-4795-8af0-b6910dc280ed   \n",
       "2  03/08/2023   -3.5  64cc3384-dde7-492f-b0e7-dab258bd4417   \n",
       "3  04/08/2023  800.0  64cd05e2-bd32-4023-bc2e-b94b77507cc6   \n",
       "4  04/08/2023   -2.5  64cd1991-67bf-4908-9804-ba7d5fa79446   \n",
       "\n",
       "                                           Descricao  \n",
       "0                     Compra no dÃÂ©bito - Suco Tal  \n",
       "1                   Compra no dÃÂ©bito - Mc Donalds  \n",
       "2       Compra no dÃÂ©bito - Dellicata Paes e Tenta  \n",
       "3  TransferÃÂªncia recebida pelo Pix - WYNK SOLU...  \n",
       "4  TransferÃÂªncia enviada pelo Pix - Samuel Mot...  "
      ]
     },
     "execution_count": 2,
     "metadata": {},
     "output_type": "execute_result"
    }
   ],
   "source": [
    "df_path = \"data/NU_340297544_01AGO2023_31AGO2023.csv\"\n",
    "df = pd.read_csv(df_path, sep=\",\", encoding=\"latin-1\")\n",
    "df = df.rename({'DescriÃÂ§ÃÂ£o': 'Descricao'}, axis = 1)\n",
    "df.head()"
   ]
  },
  {
   "cell_type": "code",
   "execution_count": 3,
   "metadata": {},
   "outputs": [],
   "source": [
    "def get_api_key():\n",
    "    with open('API_KEY.txt', 'r') as file:\n",
    "        api_key = file.read().strip()\n",
    "    return api_key"
   ]
  },
  {
   "cell_type": "code",
   "execution_count": 4,
   "metadata": {},
   "outputs": [],
   "source": [
    "import openai\n",
    "import os\n",
    "import time\n",
    "\n",
    "def get_ai_response(descriptions):\n",
    "    openai.api_key = get_api_key()\n",
    "    \n",
    "    # Initialize an empty list to store the categories\n",
    "    categories = []\n",
    "\n",
    "    # Define the maximum batch size\n",
    "    batch_size = 3  # Set to 1 to respect the rate limit (3 per minute)\n",
    "\n",
    "    # Split descriptions into batches\n",
    "    for i in range(0, len(descriptions), batch_size):\n",
    "        batch = descriptions[i:i + batch_size]\n",
    "\n",
    "        # Create a prompt for the batch\n",
    "        prompt = \"I'll give you a list of descriptions in portuguese-br, and you will give only  the list of corresponding categories, with only the categories in the right order. Categories: ( 'Alimentacao', 'Pix', 'Outros', 'Compras online', 'Pagar Fatura'). Please, dont give me back anything that isnt the categories, seppareted with a ',' List of descriptions:\\n\" + \"\\n\".join(batch)\n",
    "\n",
    "        # Make an API call for the current batch\n",
    "        response = openai.Completion.create(\n",
    "            engine=\"text-davinci-003\",\n",
    "            prompt=prompt,\n",
    "            max_tokens=150,\n",
    "            temperature=0\n",
    "        )\n",
    "\n",
    "        # Extract and append the categories from the response\n",
    "        for choice in response.choices:\n",
    "            categories.append(choice.text.strip())\n",
    "\n",
    "        # Pause for a minute to respect the rate limit\n",
    "        time.sleep(20)\n",
    "\n",
    "    return categories"
   ]
  },
  {
   "cell_type": "code",
   "execution_count": 5,
   "metadata": {},
   "outputs": [
    {
     "name": "stdout",
     "output_type": "stream",
     "text": [
      "['compra no dã\\x83â©bito - suco tal', 'compra no dã\\x83â©bito - mc donalds', 'compra no dã\\x83â©bito - dellicata paes e tenta', 'transferã\\x83âªncia recebida pelo pix - wynk solucoes d - 23.540.807/0001-12 - banco inter (0077) agã\\x83âªncia: 1 conta: 24958011-0', 'transferã\\x83âªncia enviada pelo pix - samuel mota ramos - ã¢â\\x80â¢ã¢â\\x80â¢ã¢â\\x80â¢.156.301-ã¢â\\x80â¢ã¢â\\x80â¢ - nu pagamentos - ip (0260) agã\\x83âªncia: 1 conta: 17557660-5', 'pagamento de fatura', 'compra no dã\\x83â©bito - dellicata paes e tenta', 'transferã\\x83âªncia enviada pelo pix - nilza paes landim - ã¢â\\x80â¢ã¢â\\x80â¢ã¢â\\x80â¢.785.741-ã¢â\\x80â¢ã¢â\\x80â¢ - nu pagamentos - ip (0260) agã\\x83âªncia: 1 conta: 87634211-9', 'transferã\\x83âªncia enviada pelo pix - samuel mota ramos - ã¢â\\x80â¢ã¢â\\x80â¢ã¢â\\x80â¢.156.301-ã¢â\\x80â¢ã¢â\\x80â¢ - nu pagamentos - ip (0260) agã\\x83âªncia: 1 conta: 17557660-5', 'aplicaã\\x83â§ã\\x83â£o rdb', 'transferã\\x83âªncia enviada pelo pix - manuela fonseca dos reis - ã¢â\\x80â¢ã¢â\\x80â¢ã¢â\\x80â¢.512.571-ã¢â\\x80â¢ã¢â\\x80â¢ - nu pagamentos - ip (0260) agã\\x83âªncia: 1 conta: 48482086-3', 'transferã\\x83âªncia enviada pelo pix - phoenix investimentos intermediacoes e participacoes ltda - 05.523.268/0001-21 - stone ip s.a. (0197) agã\\x83âªncia: 1 conta: 585118-3', 'transferã\\x83âªncia enviada pelo pix - antonio flavio pereira - ã¢â\\x80â¢ã¢â\\x80â¢ã¢â\\x80â¢.123.301-ã¢â\\x80â¢ã¢â\\x80â¢ - bco do brasil s.a. (0001) agã\\x83âªncia: 3413 conta: 201092-5', 'compra no dã\\x83â©bito - dellicata paes e tenta', 'compra no dã\\x83â©bito - sacolao xepa', 'transferã\\x83âªncia enviada pelo pix - micaela duque fernandes - ã¢â\\x80â¢ã¢â\\x80â¢ã¢â\\x80â¢.900.391-ã¢â\\x80â¢ã¢â\\x80â¢ - nu pagamentos - ip (0260) agã\\x83âªncia: 1 conta: 46750527-3', 'transferã\\x83âªncia recebida pelo pix - tecway consultoria e desenvolvimento de sistemas e - 00.980.208/0001-14 - banco sicoob s.a. (0756) agã\\x83âªncia: 1 conta: 80000592-9', 'transferã\\x83âªncia enviada pelo pix - shopee - 38.372.267/0001-82 - nupay ip ltda. agã\\x83âªncia: 1 conta: 146485-6', 'transferã\\x83âªncia enviada pelo pix - shopee - 38.372.267/0001-82 - nupay ip ltda. agã\\x83âªncia: 1 conta: 146485-6', 'transferã\\x83âªncia recebida pelo pix - deislane leite gama - ã¢â\\x80â¢ã¢â\\x80â¢ã¢â\\x80â¢.149.581-ã¢â\\x80â¢ã¢â\\x80â¢ - banco sicoob s.a. (0756) agã\\x83âªncia: 1 conta: 70000260-0', 'pagamento de fatura', 'transferã\\x83âªncia enviada pelo pix - camila guilhen rossi de carvalho - ã¢â\\x80â¢ã¢â\\x80â¢ã¢â\\x80â¢.772.411-ã¢â\\x80â¢ã¢â\\x80â¢ - bco c6 s.a. (0336) agã\\x83âªncia: 1 conta: 3253557-0', 'compra no dã\\x83â©bito - pag*sucoetal', 'pagamento de fatura', 'transferã\\x83âªncia recebida - kevilin eduarda lemos gonã\\x83â§alves - ã¢â\\x80â¢ã¢â\\x80â¢ã¢â\\x80â¢.548.301-ã¢â\\x80â¢ã¢â\\x80â¢ - nu pagamentos - ip (0260) agã\\x83âªncia: 1 conta: 64738019-3', 'compra no dã\\x83â©bito - apetite s', 'compra no dã\\x83â©bito - suco e tal', 'transferã\\x83âªncia recebida - cristian couto ramos - ã¢â\\x80â¢ã¢â\\x80â¢ã¢â\\x80â¢.631.530-ã¢â\\x80â¢ã¢â\\x80â¢ - nu pagamentos - ip (0260) agã\\x83âªncia: 1 conta: 59613195-5', 'pagamento de fatura', 'compra no dã\\x83â©bito - j e f lanchonete', 'transferã\\x83âªncia recebida - renata couto ramos - ã¢â\\x80â¢ã¢â\\x80â¢ã¢â\\x80â¢.968.660-ã¢â\\x80â¢ã¢â\\x80â¢ - nu pagamentos - ip (0260) agã\\x83âªncia: 1 conta: 68445740-4', 'transferã\\x83âªncia enviada pelo pix - allan taunay rocha brandao - ã¢â\\x80â¢ã¢â\\x80â¢ã¢â\\x80â¢.098.951-ã¢â\\x80â¢ã¢â\\x80â¢ - bco bmg s.a. (0318) agã\\x83âªncia: 51 conta: 7260689-6', 'transferã\\x83âªncia recebida pelo pix - lanchonete gaucha c ali a n ltda - 18.171.691/0001-51 - brb - bco de brasilia s.a. (0070) agã\\x83âªncia: 108 conta: 108001855-4', 'compra no dã\\x83â©bito - pag*jeronimotaquari', 'transferã\\x83âªncia recebida - cristian couto ramos - ã¢â\\x80â¢ã¢â\\x80â¢ã¢â\\x80â¢.631.530-ã¢â\\x80â¢ã¢â\\x80â¢ - nu pagamentos - ip (0260) agã\\x83âªncia: 1 conta: 59613195-5', 'transferã\\x83âªncia recebida pelo pix - paula dos santos mota - ã¢â\\x80â¢ã¢â\\x80â¢ã¢â\\x80â¢.230.070-ã¢â\\x80â¢ã¢â\\x80â¢ - caixa economica federal (0104) agã\\x83âªncia: 2403 conta: 774727908-7', 'compra no dã\\x83â©bito - uber *uber *trip', 'compra no dã\\x83â©bito - uber *uber *trip', 'compra no dã\\x83â©bito - j e f lanchonete', 'compra no dã\\x83â©bito - uber *uber *trip', 'transferã\\x83âªncia recebida pelo pix - alcenira do couto ramos - ã¢â\\x80â¢ã¢â\\x80â¢ã¢â\\x80â¢.500.900-ã¢â\\x80â¢ã¢â\\x80â¢ - brb - bco de brasilia s.a. (0070) agã\\x83âªncia: 108 conta: 108001857-0', 'compra no dã\\x83â©bito - uber *uber *trip', 'compra no dã\\x83â©bito - uber *trip', 'compra no dã\\x83â©bito - uber *uber *trip', 'transferã\\x83âªncia recebida - cristian couto ramos - ã¢â\\x80â¢ã¢â\\x80â¢ã¢â\\x80â¢.631.530-ã¢â\\x80â¢ã¢â\\x80â¢ - nu pagamentos - ip (0260) agã\\x83âªncia: 1 conta: 59613195-5', 'transferã\\x83âªncia recebida - cristian couto ramos - ã¢â\\x80â¢ã¢â\\x80â¢ã¢â\\x80â¢.631.530-ã¢â\\x80â¢ã¢â\\x80â¢ - nu pagamentos - ip (0260) agã\\x83âªncia: 1 conta: 59613195-5', 'compra no dã\\x83â©bito - brasil 500 doce e fes', 'compra no dã\\x83â©bito - atacadao farma filial', 'compra no dã\\x83â©bito - suco tal', 'transferã\\x83âªncia recebida - samuel mota ramos - ã¢â\\x80â¢ã¢â\\x80â¢ã¢â\\x80â¢.156.301-ã¢â\\x80â¢ã¢â\\x80â¢ - nu pagamentos - ip (0260) agã\\x83âªncia: 1 conta: 17557660-5', 'pagamento de fatura', 'transferã\\x83âªncia recebida pelo pix - lanchonete gaucha c ali a n ltda - 18.171.691/0001-51 - brb - bco de brasilia s.a. (0070) agã\\x83âªncia: 108 conta: 108001855-4', 'pagamento de fatura']\n"
     ]
    }
   ],
   "source": [
    "categorias = []\n",
    "descricao = []\n",
    "for linha in df['Descricao']:\n",
    "    linha = linha.lower()\n",
    "    descricao.append(linha)\n",
    "print(descricao)\n",
    "categoria = get_ai_response(descricao)\n",
    "print(categoria)\n",
    "#df['Categoria'] = categorias"
   ]
  },
  {
   "cell_type": "code",
   "execution_count": null,
   "metadata": {},
   "outputs": [],
   "source": [
    "df"
   ]
  }
 ],
 "metadata": {
  "kernelspec": {
   "display_name": "base",
   "language": "python",
   "name": "python3"
  },
  "language_info": {
   "codemirror_mode": {
    "name": "ipython",
    "version": 3
   },
   "file_extension": ".py",
   "mimetype": "text/x-python",
   "name": "python",
   "nbconvert_exporter": "python",
   "pygments_lexer": "ipython3",
   "version": "3.9.12"
  },
  "orig_nbformat": 4
 },
 "nbformat": 4,
 "nbformat_minor": 2
}
